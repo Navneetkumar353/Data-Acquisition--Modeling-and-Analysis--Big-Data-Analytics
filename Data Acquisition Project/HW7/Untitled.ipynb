{
 "cells": [
  {
   "cell_type": "code",
   "execution_count": 1,
   "id": "2b6279eb",
   "metadata": {},
   "outputs": [
    {
     "name": "stdout",
     "output_type": "stream",
     "text": [
      "Predicted Ratings with 5000 Steps:\n",
      "[[5.05 2.75 3.15 0.99]\n",
      " [3.89 2.13 2.64 1.  ]\n",
      " [1.09 0.76 4.94 4.88]\n",
      " [0.97 0.66 4.02 3.93]\n",
      " [2.29 1.38 4.79 4.13]]\n",
      "\n",
      "Part 2 - Predicted Ratings with 10000 Steps:\n",
      "[[4.96 2.96 3.47 1.  ]\n",
      " [3.96 2.38 2.98 1.  ]\n",
      " [1.02 0.94 5.82 4.94]\n",
      " [0.99 0.85 4.75 3.96]\n",
      " [1.34 1.06 4.95 4.  ]]\n"
     ]
    }
   ],
   "source": [
    "import numpy as np\n",
    "\n",
    "def matrix_factorization(r, p, q, k, steps=5000, alpha=0.0005, beta=0.05):\n",
    "    samples = [\n",
    "        (i, j, r[i, j])\n",
    "        for i in range(r.shape[0])\n",
    "        for j in range(r.shape[1])\n",
    "        if r[i, j] > 0\n",
    "    ]\n",
    "\n",
    "    for step in range(steps):\n",
    "        for i, j, rating in samples:\n",
    "            prediction = np.dot(p[i, :], q[j, :].T)\n",
    "            e = (rating - prediction)\n",
    "\n",
    "            p[i, :] += alpha * (e * q[j, :] - beta * p[i, :])\n",
    "            q[j, :] += alpha * (e * p[i, :] - beta * q[j, :])\n",
    "\n",
    "    return p, q\n",
    "\n",
    "# With 5000 Steps\n",
    "r = np.array([\n",
    "    [5, 3, 0, 1],\n",
    "    [4, 0, 0, 1],\n",
    "    [1, 1, 0, 5],\n",
    "    [1, 0, 0, 4],\n",
    "    [0, 1, 5, 4]\n",
    "])\n",
    "\n",
    "num_row_r, num_col_r = r.shape\n",
    "k = 2  # Number of latent factors\n",
    "p = np.random.rand(num_row_r, k)\n",
    "q = np.random.rand(num_col_r, k)\n",
    "\n",
    "# Train the matrix factorization\n",
    "new_p, new_q = matrix_factorization(r, p, q, k, steps=5000, alpha=0.0002, beta=0.02)\n",
    "\n",
    "# Predicted ratings\n",
    "r_predicted = np.dot(new_p, new_q.T)\n",
    "print(\"Predicted Ratings with 5000 Steps:\")\n",
    "print(r_predicted.round(2))\n",
    "\n",
    "# With 10000 Steps\n",
    "# Using new_p and new_q from Part 1 as starting points\n",
    "new_p, new_q = matrix_factorization(r, new_p, new_q, k, steps=10000, alpha=0.0002, beta=0.02)\n",
    "\n",
    "# Predicted ratings after 10000 steps\n",
    "r_predicted = np.dot(new_p, new_q.T)\n",
    "print(\"\\nPart 2 - Predicted Ratings with 10000 Steps:\")\n",
    "print(r_predicted.round(2))\n"
   ]
  },
  {
   "cell_type": "code",
   "execution_count": null,
   "id": "4090d649",
   "metadata": {},
   "outputs": [],
   "source": []
  },
  {
   "cell_type": "code",
   "execution_count": 2,
   "id": "c0217b48",
   "metadata": {},
   "outputs": [],
   "source": [
    "import numpy as np\n",
    "\n",
    "def matrix_factorization(R, P, Q, K, steps=5000, alpha=0.0002, beta=0.02):\n",
    "    Q = Q.T\n",
    "    for step in range(steps):\n",
    "        for i in range(len(R)):\n",
    "            for j in range(len(R[i])):\n",
    "                if R[i][j] > 0:\n",
    "                    eij = R[i][j] - np.dot(P[i,:], Q[:,j])\n",
    "                    for k in range(K):\n",
    "                        P[i][k] = P[i][k] + alpha * (2 * eij * Q[k][j] - beta * P[i][k])\n",
    "                        Q[k][j] = Q[k][j] + alpha * (2 * eij * P[i][k] - beta * Q[k][j])\n",
    "    return P, Q.T\n"
   ]
  },
  {
   "cell_type": "markdown",
   "id": "04a844cb",
   "metadata": {},
   "source": [
    "## Matrix Factorization with 5000 Steps\n",
    "\n",
    "We'll perform matrix factorization using 5000 steps to update our P and Q matrices. We start with a given user-item ratings matrix, `R`, and initialize `P` and `Q` matrices with random values. Our goal is to predict the missing ratings in `R` by optimizing `P` and `Q`.\n"
   ]
  },
  {
   "cell_type": "code",
   "execution_count": 4,
   "id": "5553a262",
   "metadata": {},
   "outputs": [
    {
     "name": "stdout",
     "output_type": "stream",
     "text": [
      "Original Ratings Matrix:\n",
      "[[5 3 0 1]\n",
      " [4 0 0 1]\n",
      " [1 1 0 5]\n",
      " [1 0 0 4]\n",
      " [0 1 5 4]]\n",
      "\n",
      "Predicted Ratings Matrix after 5000 steps:\n",
      "[[4.99 2.95 4.66 1.  ]\n",
      " [3.97 2.35 3.89 1.  ]\n",
      " [1.06 0.85 5.27 4.96]\n",
      " [0.97 0.75 4.31 3.97]\n",
      " [1.71 1.19 4.92 4.03]]\n"
     ]
    }
   ],
   "source": [
    "# Initial Ratings Matrix R\n",
    "R = np.array([\n",
    "    [5, 3, 0, 1],\n",
    "    [4, 0, 0, 1],\n",
    "    [1, 1, 0, 5],\n",
    "    [1, 0, 0, 4],\n",
    "    [0, 1, 5, 4]\n",
    "])\n",
    "\n",
    "num_users, num_items = R.shape\n",
    "K = 2  # Number of latent factors\n",
    "\n",
    "# Initialize P and Q with random values\n",
    "P = np.random.rand(num_users, K)\n",
    "Q = np.random.rand(num_items, K)\n",
    "\n",
    "# Perform matrix factorization\n",
    "nP, nQ = matrix_factorization(R, P, Q, K, steps=5000)\n",
    "\n",
    "# Calculate the dot product of nP and nQ for the predicted ratings matrix\n",
    "nR = np.dot(nP, nQ.T)\n",
    "\n",
    "# Display the original and predicted ratings matrices\n",
    "print(\"Original Ratings Matrix:\")\n",
    "print(R)\n",
    "print(\"\\nPredicted Ratings Matrix after 5000 steps:\")\n",
    "print(nR.round(2))\n"
   ]
  },
  {
   "cell_type": "markdown",
   "id": "df0d8311",
   "metadata": {},
   "source": [
    "##  Matrix Factorization with 10000 Steps\n",
    "\n",
    "To potentially improve our predictions, we'll increase the number of steps to 10000. This allows the optimization process more iterations to converge towards a better solution. We'll use the `P` and `Q` matrices obtained from above as our starting point.\n"
   ]
  },
  {
   "cell_type": "code",
   "execution_count": 5,
   "id": "979eae29",
   "metadata": {},
   "outputs": [
    {
     "name": "stdout",
     "output_type": "stream",
     "text": [
      "Predicted Ratings Matrix after 10000 steps:\n",
      "[[4.98 2.98 4.74 1.  ]\n",
      " [3.98 2.4  3.99 1.  ]\n",
      " [1.01 0.98 5.83 4.97]\n",
      " [1.   0.9  4.81 3.98]\n",
      " [1.21 1.02 4.98 3.99]]\n"
     ]
    }
   ],
   "source": [
    "# Perform matrix factorization with 10000 steps using the matrices from Part 1\n",
    "nP, nQ = matrix_factorization(R, nP, nQ, K, steps=10000)\n",
    "\n",
    "# Calculate the dot product of nP and nQ for the new predicted ratings matrix\n",
    "nR = np.dot(nP, nQ.T)\n",
    "\n",
    "# Display the predicted ratings matrix after 10000 steps\n",
    "print(\"Predicted Ratings Matrix after 10000 steps:\")\n",
    "print(nR.round(2))\n"
   ]
  },
  {
   "cell_type": "code",
   "execution_count": null,
   "id": "6ef676e8",
   "metadata": {},
   "outputs": [],
   "source": []
  },
  {
   "cell_type": "code",
   "execution_count": null,
   "id": "9832225f",
   "metadata": {},
   "outputs": [],
   "source": []
  },
  {
   "cell_type": "code",
   "execution_count": null,
   "id": "dccb6255",
   "metadata": {},
   "outputs": [],
   "source": []
  },
  {
   "cell_type": "code",
   "execution_count": null,
   "id": "87045a58",
   "metadata": {},
   "outputs": [],
   "source": []
  },
  {
   "cell_type": "code",
   "execution_count": null,
   "id": "c50f420f",
   "metadata": {},
   "outputs": [],
   "source": []
  },
  {
   "cell_type": "markdown",
   "id": "1014c9ae",
   "metadata": {},
   "source": [
    "# Matrix Factorization for Recommendation Systems\n",
    "\n",
    "In this Jupyter Notebook, we demonstrate the use of matrix factorization, a foundational technique in recommendation systems, to predict user ratings for movies. The goal is to fill in the missing entries in a user-item ratings matrix based on observed ratings. We accomplish this by decomposing the original ratings matrix into two lower-dimensional matrices, representing latent user preferences and item attributes.\n",
    "\n",
    "We start with an initial set of user ratings for a selection of movies. Not all users have rated all movies, resulting in a sparse matrix. Our matrix factorization algorithm will predict ratings for the movies that each user hasn't rated, providing personalized recommendations for each user.\n",
    "\n",
    "Let's begin by defining our matrix factorization function and setting up our initial ratings matrix.\n"
   ]
  },
  {
   "cell_type": "code",
   "execution_count": 8,
   "id": "e44e8315",
   "metadata": {},
   "outputs": [],
   "source": [
    "import numpy as np\n",
    "\n",
    "def matrix_factorization(r, p, q, k, steps=5000, alpha=0.0002, beta=0.02):\n",
    "    samples = [\n",
    "        (i, j, r[i, j])\n",
    "        for i in range(r.shape[0])\n",
    "        for j in range(r.shape[1])\n",
    "        if r[i, j] > 0\n",
    "    ]\n",
    "\n",
    "    for step in range(steps):\n",
    "        for i, j, rating in samples:\n",
    "            prediction = np.dot(p[i, :], q[j, :].T)\n",
    "            e = (rating - prediction)\n",
    "\n",
    "            p[i, :] += alpha * (e * q[j, :] - beta * p[i, :])\n",
    "            q[j, :] += alpha * (e * p[i, :] - beta * q[j, :])\n",
    "\n",
    "    return p, q\n"
   ]
  },
  {
   "cell_type": "markdown",
   "id": "bb7d963c",
   "metadata": {},
   "source": [
    "## Initial Ratings Matrix and Model Training\n",
    "\n",
    "We initialize our ratings matrix `r` with user ratings for four movies. The matrix contains zeros where a user has not rated a movie. We then train our matrix factorization model with 5000 steps to predict these missing ratings.\n"
   ]
  },
  {
   "cell_type": "code",
   "execution_count": 9,
   "id": "10bf4a7b",
   "metadata": {},
   "outputs": [
    {
     "name": "stdout",
     "output_type": "stream",
     "text": [
      "Predicted Ratings with 5000 Steps:\n",
      "[[5.08 2.44 4.27 1.09]\n",
      " [3.89 1.88 3.36 0.97]\n",
      " [1.05 0.73 3.93 4.94]\n",
      " [1.03 0.67 3.25 3.92]\n",
      " [3.16 1.68 4.8  3.99]]\n"
     ]
    }
   ],
   "source": [
    "# Initial Ratings Matrix\n",
    "r = np.array([\n",
    "    [5, 3, 0, 1],\n",
    "    [4, 0, 0, 1],\n",
    "    [1, 1, 0, 5],\n",
    "    [1, 0, 0, 4],\n",
    "    [0, 1, 5, 4]\n",
    "])\n",
    "\n",
    "num_row_r, num_col_r = r.shape\n",
    "k = 2  # Number of latent factors\n",
    "p = np.random.rand(num_row_r, k)\n",
    "q = np.random.rand(num_col_r, k)\n",
    "\n",
    "# Train the matrix factorization model\n",
    "new_p, new_q = matrix_factorization(r, p, q, k, steps=5000, alpha=0.0002, beta=0.02)\n",
    "\n",
    "# Predicted ratings after 5000 steps\n",
    "r_predicted = np.dot(new_p, new_q.T)\n",
    "print(\"Predicted Ratings with 5000 Steps:\")\n",
    "print(r_predicted.round(2))\n"
   ]
  },
  {
   "cell_type": "markdown",
   "id": "13fbd8a6",
   "metadata": {},
   "source": [
    "## Analysis of Predictions after 5000 Steps\n",
    "\n",
    "Above, we can see the predicted ratings matrix alongside the actual ratings matrix. The non-zero values in the actual ratings matrix closely match the corresponding values in the predicted ratings matrix, indicating that the function has performed well. For zero values in the actual ratings matrix, the predicted ratings matrix now includes values. These new values represent the model's predictions for the movies that a user has not yet rated.\n",
    "\n",
    "To further improve the accuracy of our predictions, we extend the training with an additional 5000 steps, making a total of 10000 steps.\n"
   ]
  },
  {
   "cell_type": "code",
   "execution_count": 10,
   "id": "79457cf6",
   "metadata": {},
   "outputs": [
    {
     "name": "stdout",
     "output_type": "stream",
     "text": [
      "\n",
      "Predicted Ratings with 10000 Steps:\n",
      "[[4.96 2.94 4.96 1.  ]\n",
      " [3.95 2.35 4.13 1.  ]\n",
      " [1.06 0.86 5.25 4.94]\n",
      " [0.97 0.76 4.31 3.96]\n",
      " [1.66 1.17 4.92 4.01]]\n"
     ]
    }
   ],
   "source": [
    "# Continue training the model with an additional 5000 steps\n",
    "new_p, new_q = matrix_factorization(r, new_p, new_q, k, steps=10000, alpha=0.0002, beta=0.02)\n",
    "\n",
    "# Predicted ratings after 10000 steps\n",
    "r_predicted = np.dot(new_p, new_q.T)\n",
    "print(\"\\nPredicted Ratings with 10000 Steps:\")\n",
    "print(r_predicted.round(2))\n"
   ]
  },
  {
   "cell_type": "markdown",
   "id": "e64aa1f4",
   "metadata": {},
   "source": [
    "## Conclusion after 10000 Steps\n",
    "\n",
    "The non-zero values in the actual ratings matrix now match even more closely to the corresponding values in the predicted ratings matrix. By extending the training to 10000 steps, we have further improved the accuracy of the predictions. This demonstrates the effectiveness of matrix factorization in predicting missing ratings and highlights the potential of such techniques in building robust recommendation systems.\n"
   ]
  },
  {
   "cell_type": "code",
   "execution_count": null,
   "id": "3f35a7d6",
   "metadata": {},
   "outputs": [],
   "source": []
  }
 ],
 "metadata": {
  "kernelspec": {
   "display_name": "Python 3 (ipykernel)",
   "language": "python",
   "name": "python3"
  },
  "language_info": {
   "codemirror_mode": {
    "name": "ipython",
    "version": 3
   },
   "file_extension": ".py",
   "mimetype": "text/x-python",
   "name": "python",
   "nbconvert_exporter": "python",
   "pygments_lexer": "ipython3",
   "version": "3.9.13"
  }
 },
 "nbformat": 4,
 "nbformat_minor": 5
}
