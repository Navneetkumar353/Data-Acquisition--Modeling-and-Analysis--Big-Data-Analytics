{
 "cells": [
  {
   "cell_type": "markdown",
   "id": "8c8bb444",
   "metadata": {},
   "source": [
    "## E Navaneet Kumar  HW 7"
   ]
  },
  {
   "cell_type": "markdown",
   "id": "b77e154f",
   "metadata": {},
   "source": [
    "# Matrix Factorization for Recommendation Systems\n",
    "\n",
    "To predict user ratings for movies. The goal is to fill in the missing entries in a user-item ratings matrix based on observed ratings. We can do this by decomposing the original ratings matrix into two lower-dimensional matrices, representing latent user preferences and item attributes.\n",
    "\n",
    "We start with an initial set of user ratings for a selection of movies. Not all users have rated all movies, resulting in a sparse matrix. Matrix factorization algorithm will predict ratings for the movies that each user hasn't rated, providing personalized recommendations for each user.\n"
   ]
  },
  {
   "cell_type": "code",
   "execution_count": 1,
   "id": "87b1104a",
   "metadata": {},
   "outputs": [],
   "source": [
    "import numpy as np\n",
    "\n",
    "def matrix_factorization(r, p, q, k, steps=5000, alpha=0.0002, beta=0.02):\n",
    "    samples = [\n",
    "        (i, j, r[i, j])\n",
    "        for i in range(r.shape[0])\n",
    "        for j in range(r.shape[1])\n",
    "        if r[i, j] > 0\n",
    "    ]\n",
    "\n",
    "    for step in range(steps):\n",
    "        for i, j, rating in samples:\n",
    "            prediction = np.dot(p[i, :], q[j, :].T)\n",
    "            e = (rating - prediction)\n",
    "\n",
    "            p[i, :] += alpha * (e * q[j, :] - beta * p[i, :])\n",
    "            q[j, :] += alpha * (e * p[i, :] - beta * q[j, :])\n",
    "\n",
    "    return p, q\n"
   ]
  },
  {
   "cell_type": "markdown",
   "id": "9f14b39c",
   "metadata": {},
   "source": [
    "## Initial Ratings Matrix and Model Training\n",
    "\n",
    "We initialize our ratings matrix `r` with user ratings for four movies. The matrix contains zeros where a user has not rated a movie. We then train our matrix factorization model with 5000 steps to predict these missing ratings.\n"
   ]
  },
  {
   "cell_type": "code",
   "execution_count": 2,
   "id": "b26f8be3",
   "metadata": {},
   "outputs": [
    {
     "name": "stdout",
     "output_type": "stream",
     "text": [
      "Predicted Ratings with 5000 Steps:\n",
      "[[5.   2.86 2.96 1.  ]\n",
      " [3.91 2.24 2.51 0.98]\n",
      " [1.04 0.87 5.09 4.86]\n",
      " [1.03 0.8  4.12 3.86]\n",
      " [1.74 1.22 4.76 4.23]]\n"
     ]
    }
   ],
   "source": [
    "# Initial Ratings Matrix\n",
    "r = np.array([\n",
    "    [5, 3, 0, 1],\n",
    "    [4, 0, 0, 1],\n",
    "    [1, 1, 0, 5],\n",
    "    [1, 0, 0, 4],\n",
    "    [0, 1, 5, 4]\n",
    "])\n",
    "\n",
    "num_row_r, num_col_r = r.shape\n",
    "k = 2  # Number of latent factors\n",
    "p = np.random.rand(num_row_r, k)\n",
    "q = np.random.rand(num_col_r, k)\n",
    "\n",
    "# Train the matrix factorization model\n",
    "new_p, new_q = matrix_factorization(r, p, q, k, steps=5000, alpha=0.0002, beta=0.02)\n",
    "\n",
    "# Predicted ratings after 5000 steps\n",
    "r_predicted = np.dot(new_p, new_q.T)\n",
    "print(\"Predicted Ratings with 5000 Steps:\")\n",
    "print(r_predicted.round(2))\n"
   ]
  },
  {
   "cell_type": "markdown",
   "id": "818f2eb2",
   "metadata": {},
   "source": [
    "## Analysis of Predictions after 5000 Steps\n",
    "\n",
    "Above, we can see the predicted ratings matrix alongside the actual ratings matrix. The non-zero values in the actual ratings matrix closely match the corresponding values in the predicted ratings matrix, indicating that the function has performed well. For zero values in the actual ratings matrix, the predicted ratings matrix now includes values. These new values represent the model's predictions for the movies that a user has not yet rated.\n",
    "\n",
    "To further improve the accuracy of our predictions, we extend the training with an additional 5000 steps, making a total of 10000 steps.\n"
   ]
  },
  {
   "cell_type": "code",
   "execution_count": 3,
   "id": "9afff247",
   "metadata": {},
   "outputs": [
    {
     "name": "stdout",
     "output_type": "stream",
     "text": [
      "\n",
      "Predicted Ratings with 10000 Steps:\n",
      "[[4.95 2.96 3.18 1.  ]\n",
      " [3.96 2.39 2.76 1.  ]\n",
      " [1.02 0.96 5.9  4.94]\n",
      " [0.99 0.88 4.81 3.97]\n",
      " [1.27 1.04 4.96 3.99]]\n"
     ]
    }
   ],
   "source": [
    "# Continue training the model with an additional 5000 steps\n",
    "new_p, new_q = matrix_factorization(r, new_p, new_q, k, steps=10000, alpha=0.0002, beta=0.02)\n",
    "\n",
    "# Predicted ratings after 10000 steps\n",
    "r_predicted = np.dot(new_p, new_q.T)\n",
    "print(\"\\nPredicted Ratings with 10000 Steps:\")\n",
    "print(r_predicted.round(2))\n"
   ]
  },
  {
   "cell_type": "markdown",
   "id": "5b86c2e4",
   "metadata": {},
   "source": [
    "## Conclusion after 10000 Steps\n",
    "\n",
    "The non-zero values in the actual ratings matrix now match even more closely to the corresponding values in the predicted ratings matrix. By extending the training to 10000 steps, we have further improved the accuracy of the predictions. This demonstrates the effectiveness of matrix factorization in predicting missing ratings.\n"
   ]
  },
  {
   "cell_type": "code",
   "execution_count": null,
   "id": "23d76438",
   "metadata": {},
   "outputs": [],
   "source": []
  }
 ],
 "metadata": {
  "kernelspec": {
   "display_name": "Python 3 (ipykernel)",
   "language": "python",
   "name": "python3"
  },
  "language_info": {
   "codemirror_mode": {
    "name": "ipython",
    "version": 3
   },
   "file_extension": ".py",
   "mimetype": "text/x-python",
   "name": "python",
   "nbconvert_exporter": "python",
   "pygments_lexer": "ipython3",
   "version": "3.9.13"
  }
 },
 "nbformat": 4,
 "nbformat_minor": 5
}
