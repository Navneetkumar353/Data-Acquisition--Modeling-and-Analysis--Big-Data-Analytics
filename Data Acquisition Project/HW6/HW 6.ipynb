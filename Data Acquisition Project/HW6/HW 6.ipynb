{
 "cells": [
  {
   "cell_type": "code",
   "execution_count": 1,
   "id": "7e37c23f",
   "metadata": {},
   "outputs": [],
   "source": [
    "import numpy    # for arrays\n",
    "import time     # for timing cells"
   ]
  },
  {
   "cell_type": "code",
   "execution_count": 2,
   "id": "54c324e7",
   "metadata": {},
   "outputs": [],
   "source": [
    "data_dir = 'C:/Users/navne/Python Files/Data Acquisition BIA 627/HW5/'\n",
    "file_name_test = data_dir + 'testTrack_hierarchy.txt'\n",
    "file_name_train = data_dir + 'trainIdx2_matrix.txt'\n",
    "output_file = data_dir + 'output1.txt'"
   ]
  },
  {
   "cell_type": "code",
   "execution_count": 3,
   "id": "27addfc6",
   "metadata": {},
   "outputs": [],
   "source": [
    "# Open files\n",
    "f_test = open(file_name_test)\n",
    "f_train = open(file_name_train)\n",
    "train_line = f_train.readline()\n",
    "f_out = open(output_file, 'w')"
   ]
  },
  {
   "cell_type": "code",
   "execution_count": 4,
   "id": "6d0c4988",
   "metadata": {},
   "outputs": [],
   "source": [
    "# Initialize arrays to hold track_id, album_id, and artist_id for all 6 entries of a user.\n",
    "track_id_vec = [0] * 6\n",
    "album_id_vec = [0] * 6\n",
    "artist_id_vec = [0] * 6\n",
    "last_user_id = -1"
   ]
  },
  {
   "cell_type": "code",
   "execution_count": 5,
   "id": "d56bb334",
   "metadata": {},
   "outputs": [],
   "source": [
    "# Initialize numpy array to hold album and artist ratings for each user\n",
    "user_rating_in_train = numpy.zeros(shape=(6,3))"
   ]
  },
  {
   "cell_type": "markdown",
   "id": "56de7539",
   "metadata": {},
   "source": [
    "In Part 1 of the process, we iterate over each line in the test file. Initially, we parse the line into a list and extract the `user_id`, `track_id`, `album_id`, and `artist_id`.\n",
    "\n",
    "When we encounter a new user, indicated by a change in `user_id` (with `last_user_id` initially set to -1 to ensure we process the first user), we prepare vectors to store the ids for tracks, albums, and artists associated with this user.\n",
    "\n",
    "As we transition to a new user in the test data, we begin examining the training data line by line. For each line, we construct a list from the data, capturing the `user_id`, `item_id`, and `rating`.\n",
    "\n",
    "Should the `user_id` in the training data be lower than the `user_id` from the test data, we skip to the next iteration of the loop without further processing.\n",
    "\n",
    "If the `user_id` in the training data matches the `user_id` from the test data, we look for matches between the album and artist ids in both the test and training data. When matches are found, we update the `user_rating_in_train` vector with the corresponding scores from the training data.\n",
    "\n",
    "Upon finding a `user_id` in the training data that surpasses the `user_id` in the test data, it signals the start of data for a new user. At this point, we output six records for the current user, incorporating the `user_id`, `track_id`, and any discovered `album_score` and `artist_score` from the training data (defaulting to 0 if not found). After processing these six entries, we exit the loop to proceed with the next user."
   ]
  },
  {
   "cell_type": "code",
   "execution_count": null,
   "id": "e9f5c85c",
   "metadata": {},
   "outputs": [],
   "source": []
  },
  {
   "cell_type": "code",
   "execution_count": 6,
   "id": "dc293f50",
   "metadata": {},
   "outputs": [
    {
     "name": "stdout",
     "output_type": "stream",
     "text": [
      "Done! Time elapsed - 24.50 seconds.\n"
     ]
    }
   ],
   "source": [
    "start_time = time.time()\n",
    "\n",
    "for line in f_test:\n",
    "    arr_test = line.strip().split('|')\n",
    "    user_id = arr_test[0]    # set user\n",
    "    track_id = arr_test[1]   # set track\n",
    "    album_id = arr_test[2]   # set album\n",
    "    artist_id = arr_test[3]  # set artist\n",
    "    \n",
    "    if user_id != last_user_id:    # if new user reached\n",
    "        ii = 0                     # reset ii\n",
    "        user_rating_in_train = numpy.zeros(shape=(6,3))    # reset this array\n",
    "        \n",
    "    track_id_vec[ii] = track_id\n",
    "    album_id_vec[ii] = album_id\n",
    "    artist_id_vec[ii] = artist_id\n",
    "    ii = ii + 1\n",
    "    last_user_id = user_id\n",
    "    \n",
    "    if ii == 6:                    # if last entry for current user reached\n",
    "        while(train_line):\n",
    "            #for train_line in f_train:\n",
    "                arr_train = train_line.strip().split('|')    # make list of user_id, item_id, and rating from current line\n",
    "                train_user_id = arr_train[0]\n",
    "                train_item_id = arr_train[1]\n",
    "                train_rating = arr_train[2]\n",
    "                train_line = f_train.readline()    # go to next line\n",
    "\n",
    "                if train_user_id < user_id:\n",
    "                    continue    # return to beginning of while loop\n",
    "                if train_user_id == user_id:\n",
    "                    for nn in range(0, 6):    # go through each row in (6,3) user_rating_in_train array for current row in training file\n",
    "                        if train_item_id == album_id_vec[nn]:    # if album found\n",
    "                            user_rating_in_train[nn, 0] = train_rating    # set album rating\n",
    "                        if train_item_id == artist_id_vec[nn]:   # if artist found\n",
    "                            user_rating_in_train[nn, 1] = train_rating    # set artist rating\n",
    "                if train_user_id > user_id:   # if we reached the end of the current user, write to output file all the ratings found for current user\n",
    "                    for nn in range(0, 6):    # go through each row in (6,3) array\n",
    "                        out_str = str(user_id) + '|' + str(track_id_vec[nn]) + '|' + str(user_rating_in_train[nn,0]) + '|' + str(user_rating_in_train[nn, 1])\n",
    "                        f_out.write(out_str + '\\n')\n",
    "                    break    # break out of while loop\n",
    "                    \n",
    "end_time = time.time()\n",
    "elapsed_time = end_time - start_time\n",
    "print(f'Done! Time elapsed - {elapsed_time:.2f} seconds.')"
   ]
  },
  {
   "cell_type": "code",
   "execution_count": 7,
   "id": "79571791",
   "metadata": {},
   "outputs": [],
   "source": [
    "# Close all the files\n",
    "f_test.close()\n",
    "f_train.close()\n",
    "f_out.close()"
   ]
  },
  {
   "cell_type": "markdown",
   "id": "1f21ccb5",
   "metadata": {},
   "source": [
    "### Part 2 - Generating Prediction File\n",
    "\n",
    "In this section, we utilize the data generated in Part 1 to compile a prediction file. This file will contain predictions for each track, formatted as `userID_trackID,prediction`. The prediction value will be either 1 or 0, where 1 indicates a prediction that the user will like the song, and 0 indicates a prediction that the user will not. Each user will have predictions for 6 tracks, consisting of 3 predictions marked as 1 and 3 as 0.\n",
    "\n",
    "The prediction mechanism involves analyzing the album and artist ratings for each of the 6 tracks associated with a user. Album scores are given greater importance through higher weighting, under the assumption that a user is more likely to enjoy another song from the same album than from the same artist. The top 3 rated songs, based on these weighted scores, are predicted to be liked by the user (marked as 1), while the remaining 3 are predicted to be less favored (marked as 0)."
   ]
  },
  {
   "cell_type": "code",
   "execution_count": 8,
   "id": "488408ff",
   "metadata": {},
   "outputs": [
    {
     "name": "stdout",
     "output_type": "stream",
     "text": [
      "Done! Time elapsed - 0.86 seconds.\n"
     ]
    }
   ],
   "source": [
    "# Initialize some values\n",
    "ratings_array = numpy.zeros(shape=(2,6))\n",
    "last_user_id = -1\n",
    "track_id_out_vec = [0] * 6\n",
    "\n",
    "start_time = time.time()\n",
    "\n",
    "# Open files\n",
    "output_file_2 = data_dir + 'Predictions.csv'\n",
    "f_out_2 = open(output_file_2, 'w')\n",
    "f_out = open(output_file)\n",
    "\n",
    "# Write header\n",
    "f_out_2.write('TrackID,Predictor\\n')\n",
    "\n",
    "# Go through each line of the output file\n",
    "for line in f_out:\n",
    "    arr_out = line.strip().split('|')\n",
    "    user_id_out = arr_out[0]                # set user\n",
    "    track_id_out = arr_out[1]               # set track\n",
    "    album_rating = float(arr_out[2]) * .9   # set album and apply weight\n",
    "    artist_rating = float(arr_out[3]) * .1  # set artist and apply weight\n",
    "    \n",
    "    if user_id_out != last_user_id:    # if new user reached\n",
    "        ii = 0                         # reset ii\n",
    "        ratings_array = numpy.zeros(shape=(2,6))    # reset this array\n",
    "        \n",
    "    if ii < 6:                                 # if still on same user (so from 0 to 5 inclusive)\n",
    "        ratings_array[0, ii] = album_rating    # add album rating to this vector\n",
    "        ratings_array[1, ii] = artist_rating   # add artist rating to this vector\n",
    "        track_id_out_vec[ii] = track_id_out    # add track_id to this vector\n",
    "        \n",
    "    ii = ii + 1\n",
    "    last_user_id = user_id_out\n",
    "        \n",
    "    if ii == 6:                                                    # if last entry for current user reached\n",
    "        ratings_array_sum = numpy.zeros(shape=(6))                 # initialize numpy array for ratings sums\n",
    "        numpy.sum(ratings_array, axis=0, out=ratings_array_sum)    # sum the album rating and artist rating for each track\n",
    "        indices = (-ratings_array_sum).argsort()[:3]               # get indices of top 3 scores\n",
    "        \n",
    "        # Here we set the predictions by setting a 1 for elements with indices in the indices list and setting a 0 for elements with indices not in the indices list\n",
    "        predictions = numpy.zeros(shape=(6))    # initlize numpy array for predictions\n",
    "        for index in indices:\n",
    "            predictions[index] = 1    \n",
    "            \n",
    "        # Here we write to the output file for the 6 track predictions for the current user\n",
    "        for nn in range(0, 6):\n",
    "            out_str = str(user_id_out) + '_' + str(track_id_out_vec[nn]) + ',' + str(int(predictions[nn]))\n",
    "            f_out_2.write(out_str + '\\n')\n",
    "\n",
    "end_time = time.time()\n",
    "elapsed_time = end_time - start_time\n",
    "print(f'Done! Time elapsed - {elapsed_time:.2f} seconds.')\n",
    "\n",
    "f_out_2.close()\n",
    "f_out.close()"
   ]
  },
  {
   "cell_type": "code",
   "execution_count": 14,
   "id": "5e092b41",
   "metadata": {},
   "outputs": [],
   "source": [
    "import numpy as np\n",
    "import csv\n",
    "\n",
    "def calculate_stats(ratings):\n",
    "    if not ratings:\n",
    "        return [0] * 6  # Return zeros if no ratings\n",
    "    \n",
    "    num_ratings = len(ratings)\n",
    "    max_score = max(ratings, default=0)\n",
    "    min_score = min(ratings, default=0)\n",
    "    sum_score = sum(ratings)\n",
    "    avg_score = sum_score / num_ratings if num_ratings > 0 else 0\n",
    "    #var_score = np.var(ratings) if num_ratings > 0 else 0\n",
    "    #return [num_ratings, max_score, min_score, sum_score, avg_score, var_score]\n",
    "    std_dev = np.std(ratings) if ratings else 0\n",
    "    return [num_ratings, max_score, min_score, sum_score, avg_score, std_dev]\n",
    "\n",
    "    \n",
    "\n",
    "dataDir = 'C:/Users/navne/Python Files/Data Acquisition BIA 627/HW5/'\n",
    "file_name_test = dataDir + 'testTrack_hierarchy.txt'\n",
    "file_name_train = dataDir + 'trainIdx2_matrix.txt'\n",
    "output_file = dataDir + 'output2.csv'\n",
    "\n",
    "train_data = {}\n",
    "with open(file_name_train, 'r') as fTrain:\n",
    "    for line in fTrain:\n",
    "        userID, itemID, rating = line.strip().split('|')[:3]\n",
    "        train_data.setdefault(userID, {})[itemID] = int(rating)\n",
    "\n",
    "with open(file_name_test, 'r') as fTest, open(output_file, 'w', newline='') as fOut:\n",
    "    csv_writer = csv.writer(fOut)\n",
    "    csv_writer.writerow(['TrackID', 'Predictor'])\n",
    "\n",
    "    for line in fTest:\n",
    "        parts = line.strip().split('|')\n",
    "        userID, trackID = parts[0], parts[1]\n",
    "        kaggle_trackID = f\"{userID}_{trackID}\"\n",
    "\n",
    "        albumID, artistID = parts[2], parts[3]\n",
    "        genreIDs = parts[4:]\n",
    "\n",
    "        # Initialize ratings list with album and artist ratings if they exist\n",
    "        ratings = []\n",
    "        if albumID in train_data.get(userID, {}):\n",
    "            ratings.append(train_data[userID][albumID])\n",
    "        if artistID in train_data.get(userID, {}):\n",
    "            ratings.append(train_data[userID][artistID])\n",
    "\n",
    "        # Append genre ratings to the ratings list\n",
    "        for genreID in genreIDs:\n",
    "            if genreID in train_data.get(userID, {}):\n",
    "                ratings.append(train_data[userID][genreID])\n",
    "\n",
    "        # Calculate stats for the ratings\n",
    "        stats = calculate_stats(ratings)\n",
    "\n",
    "        # Combine the statistics to form a total score for the track\n",
    "        total_score = sum(stats)\n",
    "\n",
    "        # Decision threshold to classify as '1' or '0'\n",
    "        threshold = 150  # Adjust based on validation\n",
    "        prediction = 1 if total_score > threshold else 0\n",
    "\n",
    "        # Write the result to the CSV\n",
    "        csv_writer.writerow([kaggle_trackID, prediction])\n"
   ]
  },
  {
   "cell_type": "code",
   "execution_count": null,
   "id": "fb64f7c6",
   "metadata": {},
   "outputs": [],
   "source": []
  }
 ],
 "metadata": {
  "kernelspec": {
   "display_name": "Python 3 (ipykernel)",
   "language": "python",
   "name": "python3"
  },
  "language_info": {
   "codemirror_mode": {
    "name": "ipython",
    "version": 3
   },
   "file_extension": ".py",
   "mimetype": "text/x-python",
   "name": "python",
   "nbconvert_exporter": "python",
   "pygments_lexer": "ipython3",
   "version": "3.9.13"
  }
 },
 "nbformat": 4,
 "nbformat_minor": 5
}
