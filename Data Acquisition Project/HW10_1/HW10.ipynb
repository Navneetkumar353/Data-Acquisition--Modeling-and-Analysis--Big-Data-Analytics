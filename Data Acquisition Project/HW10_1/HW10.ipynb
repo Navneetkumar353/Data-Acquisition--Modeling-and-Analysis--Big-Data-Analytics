{
 "cells": [
  {
   "cell_type": "code",
   "execution_count": 1,
   "id": "90bb72d1",
   "metadata": {},
   "outputs": [],
   "source": [
    "import os\n",
    "import numpy as np\n",
    "import pandas as pd"
   ]
  },
  {
   "cell_type": "code",
   "execution_count": 2,
   "id": "1dbd2853",
   "metadata": {},
   "outputs": [],
   "source": [
    "FILES_DIR = 'submissions/'\n",
    "ensemble_files = [\n",
    "    {'file': 'ALS.csv', 'score': 0.59129},\n",
    "    {'file': 'simple_baseline.csv', 'score': 0.86692},\n",
    "    {'file': 'DT (1).csv', 'score': 0.82562},\n",
    "    {'file': 'GBT (1).csv', 'score': 0.90029},\n",
    "    {'file': 'LR (1).csv', 'score': 0.89383},\n",
    "    {'file': 'RF (1).csv', 'score': 0.89654},\n",
    "    {'file': 'GBT.csv', 'score': 0.86208},\n",
    "    {'file': 'DT.csv', 'score': 0.85762},\n",
    "    {'file': 'RF.csv', 'score': 0.86337},\n",
    "    {'file': 'LR.csv', 'score': 0.86352},\n",
    "]"
   ]
  },
  {
   "cell_type": "code",
   "execution_count": 18,
   "id": "a84fce65",
   "metadata": {},
   "outputs": [],
   "source": [
    "df = pd.read_csv('sample_submission.csv').sort_values('TrackID').reset_index(drop=True)"
   ]
  },
  {
   "cell_type": "code",
   "execution_count": null,
   "id": "1092e5ee",
   "metadata": {},
   "outputs": [],
   "source": [
    "scores = []\n",
    "predictions = []\n",
    "for ensemble_file in ensemble_files:\n",
    "    predictions.append(\n",
    "        pd.read_csv(os.path.join(FILES_DIR, ensemble_file['file'])).sort_values('TrackID')['Predictor'].values\n",
    "    )\n",
    "    scores.append(ensemble_file['score'])"
   ]
  },
  {
   "cell_type": "code",
   "execution_count": null,
   "id": "6b630812",
   "metadata": {},
   "outputs": [],
   "source": [
    "S = np.stack(predictions).T * 2 - 1"
   ]
  },
  {
   "cell_type": "code",
   "execution_count": null,
   "id": "acba70c5",
   "metadata": {},
   "outputs": [],
   "source": [
    "StS_inv = np.linalg.inv(S.T.dot(S))\n",
    "StX = len(S)*(np.array(scores)*2 - 1)"
   ]
  },
  {
   "cell_type": "code",
   "execution_count": null,
   "id": "b1ad8a86",
   "metadata": {},
   "outputs": [],
   "source": [
    "a_LS = StS_inv.dot(StX)"
   ]
  },
  {
   "cell_type": "code",
   "execution_count": null,
   "id": "6419dd67",
   "metadata": {},
   "outputs": [],
   "source": [
    "df['EnsembleScore'] = S.dot(np.expand_dims(a_LS, axis=-1))"
   ]
  },
  {
   "cell_type": "code",
   "execution_count": null,
   "id": "aec13e2c",
   "metadata": {},
   "outputs": [],
   "source": [
    "df['UserID'] = df['TrackID'].str.split('_').str[0]"
   ]
  },
  {
   "cell_type": "code",
   "execution_count": null,
   "id": "cbd1c4bb",
   "metadata": {},
   "outputs": [],
   "source": [
    "df = df.sort_values('EnsembleScore', ascending=False)"
   ]
  },
  {
   "cell_type": "code",
   "execution_count": null,
   "id": "0fcb7ff1",
   "metadata": {},
   "outputs": [],
   "source": [
    "df = pd.concat([\n",
    "    df.groupby(['UserID']).head(3).assign(Predictor=1),\n",
    "    df.groupby(['UserID']).tail(3).assign(Predictor=0)\n",
    "])[['TrackID', 'Predictor']]"
   ]
  },
  {
   "cell_type": "code",
   "execution_count": null,
   "id": "ecb449c5",
   "metadata": {},
   "outputs": [],
   "source": [
    "df.to_csv('ensemble.csv', index=None)"
   ]
  },
  {
   "cell_type": "markdown",
   "id": "050df185",
   "metadata": {},
   "source": [
    "The best public score has improved from **0.90029** to **0.90296**"
   ]
  }
 ],
 "metadata": {
  "kernelspec": {
   "display_name": "Python 3 (ipykernel)",
   "language": "python",
   "name": "python3"
  },
  "language_info": {
   "codemirror_mode": {
    "name": "ipython",
    "version": 3
   },
   "file_extension": ".py",
   "mimetype": "text/x-python",
   "name": "python",
   "nbconvert_exporter": "python",
   "pygments_lexer": "ipython3",
   "version": "3.9.13"
  }
 },
 "nbformat": 4,
 "nbformat_minor": 5
}
