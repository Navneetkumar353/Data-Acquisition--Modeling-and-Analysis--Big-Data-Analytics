{
 "cells": [
  {
   "cell_type": "code",
   "execution_count": 17,
   "id": "4af98eb0",
   "metadata": {},
   "outputs": [],
   "source": [
    "from __future__ import print_function\n",
    "import time\n",
    "import sys"
   ]
  },
  {
   "cell_type": "code",
   "execution_count": 18,
   "id": "14789e7a",
   "metadata": {},
   "outputs": [],
   "source": [
    "TRACK_DATA_FILE = \"trackData2.txt\"\n",
    "TRACK_HIERARCHY_FILE = \"testTrack_hierarchy.txt\"\n",
    "TEST_DATA_FILE = \"testItem2.txt\""
   ]
  },
  {
   "cell_type": "code",
   "execution_count": 19,
   "id": "40a1b3a6",
   "metadata": {},
   "outputs": [
    {
     "name": "stdout",
     "output_type": "stream",
     "text": [
      "249010\n",
      "Finished, Spend 0.44 s\n"
     ]
    }
   ],
   "source": [
    "lib_trackData = {}\n",
    "start_time = time.time()\n",
    "\n",
    "with open(TRACK_DATA_FILE) as trackData:\n",
    "    for line in trackData:\n",
    "        [track_Id, track_detail] = line.strip(\"\\n\").split(\"|\", maxsplit=1)\n",
    "        lib_trackData[track_Id] = track_detail\n",
    "with open(TRACK_HIERARCHY_FILE, \"w\") as testHierarchy:\n",
    "    with open(TEST_DATA_FILE) as testData:\n",
    "        for line in testData:\n",
    "            if \"|\" in line:\n",
    "                cur_user = line.strip(\"\\n\").split(\"|\")[0]\n",
    "                continue\n",
    "            cur_track = line.strip(\"\\n\")\n",
    "            testHierarchy.write(cur_user + \"|\" + cur_track + \"|\" + lib_trackData[cur_track] + \"\\n\")\n",
    "print(cur_user)\n",
    "print(\"Finished, Spend %.2f s\" % (time.time() - start_time))"
   ]
  },
  {
   "cell_type": "code",
   "execution_count": 20,
   "id": "5eeba4d1",
   "metadata": {},
   "outputs": [],
   "source": [
    "from __future__ import print_function\n",
    "import time\n",
    "import sys\n",
    "\n",
    "OUTPUT_FILE = \"Ranking2.txt\"\n",
    "H_FILE = \"testTrack_hierarchy.txt\"\n",
    "TRAIN_FILE = \"trainItem2.txt\""
   ]
  },
  {
   "cell_type": "code",
   "execution_count": 21,
   "id": "f68ca9d5",
   "metadata": {},
   "outputs": [
    {
     "name": "stdout",
     "output_type": "stream",
     "text": [
      "Finished, Spend 8.53 s\n"
     ]
    }
   ],
   "source": [
    "user_rate = {}\n",
    "start_time = time.time()\n",
    "with open(TRAIN_FILE) as train:\n",
    "    for line in train:\n",
    "        if \"|\" in line:\n",
    "            cur_user = line.strip(\"\\n\").split(\"|\")[0]\n",
    "            user_rate[cur_user]={}\n",
    "            continue\n",
    "        item_id,item_score=line.strip(\"\\n\").split()\n",
    "        user_rate[cur_user][item_id]=item_score\n",
    "\n",
    "with open(OUTPUT_FILE, \"w\") as output:\n",
    "    with open(H_FILE) as record:\n",
    "        for line in record:\n",
    "            gen_out=\"\"\n",
    "            user,track=line.strip(\"\\n\").split(\"|\")[0],line.strip(\"\\n\").split(\"|\")[1]\n",
    "            items=line.strip(\"\\n\").split(\"|\")[2:]\n",
    "            if len(items)==0:\n",
    "                album_score='0'\n",
    "                artist_score='0'\n",
    "            if len(items)==1:\n",
    "                album=items[0]\n",
    "                try:\n",
    "                    album_score=user_rate[user][album]\n",
    "                except KeyError:\n",
    "                    album_score='0'\n",
    "                artist_score='0'\n",
    "            if len(items)==2:\n",
    "                album = items[0]\n",
    "                artist = items[1]\n",
    "                try:\n",
    "                    album_score=user_rate[user][album]\n",
    "                except KeyError:\n",
    "                    album_score='0'\n",
    "                try:\n",
    "                    artist_score=user_rate[user][artist]\n",
    "                except KeyError:\n",
    "                    artist_score='0'\n",
    "            if len(items)>2:\n",
    "                try:\n",
    "                    album_score=user_rate[user][items[0]]\n",
    "                except KeyError:\n",
    "                    album_score='0'\n",
    "                try:\n",
    "                    artist_score=user_rate[user][items[1]]\n",
    "                except KeyError:\n",
    "                    artist_score='0'\n",
    "                genr=items[2:]\n",
    "                for g in genr:\n",
    "                    try:\n",
    "                        gen_out=gen_out+\"|\"+user_rate[user][g]\n",
    "                    except KeyError:\n",
    "                        pass\n",
    "            output.write(user + \"|\" + track + \"|\" + album_score + \"|\"+artist_score+gen_out+\"\\n\")\n",
    "\n",
    "\n",
    "\n",
    "print(\"Finished, Spend %.2f s\" % (time.time() - start_time))"
   ]
  },
  {
   "cell_type": "code",
   "execution_count": 22,
   "id": "fbf79b90",
   "metadata": {},
   "outputs": [],
   "source": [
    "SCORE_FILE = \"Ranking2.txt\"\n",
    "OUT_FILE = \"Ranking3.txt\"\n",
    "import time\n",
    "user_rate={}\n",
    "start_time = time.time()\n",
    "def my_sum(l):\n",
    "    sum=0\n",
    "    count = 0\n",
    "    for i in l:\n",
    "        if int(i) != 0:\n",
    "            count+=1\n",
    "        sum=sum+int(i)\n",
    "    if count != 0:\n",
    "        return sum/count\n",
    "    else:\n",
    "        return sum\n",
    "with open(OUT_FILE,'w') as output:\n",
    "    with open(SCORE_FILE) as score:\n",
    "        for line in score:\n",
    "            try:\n",
    "                user_id,track_id,sum_score=line.strip(\"\\n\").split(\"|\")[0],line.strip(\"\\n\").split(\"|\")[1],(1*int(line.strip().split(\"|\")[2])+0.01*int(line.strip(\"\\n\").split(\"|\")[3])+0.00007*my_sum(line.strip(\"\\n\").split(\"|\")[4:]))/3\n",
    "            except IndexError:\n",
    "                user_id,track_id,sum_score = line.strip(\"\\n\").split(\"|\")[0], line.strip(\"\\n\").split(\"|\")[1], (1*int(line.strip(\"\\n\").split(\"|\")[2]) + 0.01*int(line.strip(\"\\n\").split(\"|\")[3]))/2\n",
    "            output.write(user_id+\"|\"+track_id+\"|\"+str(sum_score)+\"\\n\")"
   ]
  },
  {
   "cell_type": "code",
   "execution_count": 23,
   "id": "a9b327c7",
   "metadata": {},
   "outputs": [],
   "source": [
    "SUM_FILE = \"Ranking3.txt\"\n",
    "OUT_FILE = \"Compare7.txt\"\n",
    "with open(OUT_FILE,'w') as output:\n",
    "    with open(SUM_FILE) as score:\n",
    "        cur=0\n",
    "        vec={}\n",
    "        for line in score:\n",
    "            if cur<6:\n",
    "                vec[line.strip(\"\\n\").split(\"|\")[0]+\"_\"+line.strip(\"\\n\").split(\"|\")[1]]=line.strip(\"\\n\").split(\"|\")[2]\n",
    "                cur+=1\n",
    "            else:\n",
    "                l=sorted(vec.items(), key=lambda item: item[1])\n",
    "                for i in range(3):\n",
    "                    output.write(l[i][0] + \"|\" + '0' + \"\\n\")\n",
    "                for j in range(3,6):\n",
    "                    output.write(l[j][0] + \"|\" + '1' + \"\\n\")\n",
    "                vec={}\n",
    "                vec[line.strip(\"\\n\").split(\"|\")[0]+\"_\"+line.strip(\"\\n\").split(\"|\")[1]]=line.strip(\"\\n\").split(\"|\")[2]\n",
    "                cur=1\n",
    "    l = sorted(vec.items(), key=lambda item: item[1])\n",
    "    for i in range(3):\n",
    "        output.write(l[i][0] + \"|\" + '0' + \"\\n\")\n",
    "    for j in range(3, 6):\n",
    "        output.write(l[j][0] + \"|\" + '1' + \"\\n\")"
   ]
  },
  {
   "cell_type": "code",
   "execution_count": 24,
   "id": "3c8cdbdd",
   "metadata": {},
   "outputs": [],
   "source": [
    "import pandas as pd\n",
    "\n",
    "OUT_FILE = \"Compare7.txt\"\n",
    "result_list = []\n",
    "with open(OUT_FILE,'r') as output:\n",
    "    for line in output:\n",
    "        line = line.strip().split(\"|\")\n",
    "        ID = line[0]\n",
    "        score = line[1]\n",
    "        result = [ID, score]\n",
    "        result_list.append(result)\n",
    "name = ['TrackID', 'Predictor']\n",
    "test=pd.DataFrame(columns=name, data=result_list)\n",
    "test.to_csv('result.csv',index=False)"
   ]
  },
  {
   "cell_type": "code",
   "execution_count": 26,
   "id": "43347962",
   "metadata": {},
   "outputs": [],
   "source": [
    "score_file = \"Ranking2.txt\"\n",
    "out_file = \"genre_test.txt\"\n",
    "\n",
    "def genre_sum(gen_len):\n",
    "    sum=0\n",
    "    count = 0\n",
    "    for i in l:\n",
    "        if int(i) != 0:\n",
    "            count+=1\n",
    "        sum=sum+int(i)\n",
    "    if count != 0:\n",
    "        return sum/count\n",
    "    else:\n",
    "        return sum\n",
    "\n",
    "with open(out_file,'w') as output:\n",
    "    with open(score_file) as score:\n",
    "        for line in score:\n",
    "            try:\n",
    "                #user_id,track_id,sum_score=line.strip(\"\\n\").split(\"|\")[0],line.strip(\"\\n\").split(\"|\")[1],(1*int(line.strip().split(\"|\")[2])+0.01*int(line.strip(\"\\n\").split(\"|\")[3])+0.00007*my_sum(line.strip(\"\\n\").split(\"|\")[4:]))/3\n",
    "                user_id,track_id,album_score, artist_score, genre_score=line.strip(\"\\n\").split(\"|\")[0],line.strip(\"\\n\").split(\"|\")[1], line.strip(\"\\n\").split(\"|\")[2], line.strip(\"\\n\").split(\"|\")[3], (1*my_sum(line.strip(\"\\n\").split(\"|\")[4:]))\n",
    "            except IndexError:\n",
    "                #user_id,track_id,sum_score = line.strip(\"\\n\").split(\"|\")[0], line.strip(\"\\n\").split(\"|\")[1], (1*int(line.strip(\"\\n\").split(\"|\")[2]) + 0.01*int(line.strip(\"\\n\").split(\"|\")[3]))/2\n",
    "                user_id,track_id,album_score, artist_score, genre_score = line.strip(\"\\n\").split(\"|\")[0],line.strip(\"\\n\").split(\"|\")[1], line.strip(\"\\n\").split(\"|\")[2], line.strip(\"\\n\").split(\"|\")[3],str(0)\n",
    "            output.write(user_id+\"|\"+track_id+\"|\"+str(album_score)+\"|\" +str(artist_score)+\"|\"+str(genre_score)+\"\\n\")"
   ]
  },
  {
   "cell_type": "code",
   "execution_count": null,
   "id": "0a0e5ce4",
   "metadata": {},
   "outputs": [],
   "source": []
  }
 ],
 "metadata": {
  "kernelspec": {
   "display_name": "Python 3 (ipykernel)",
   "language": "python",
   "name": "python3"
  },
  "language_info": {
   "codemirror_mode": {
    "name": "ipython",
    "version": 3
   },
   "file_extension": ".py",
   "mimetype": "text/x-python",
   "name": "python",
   "nbconvert_exporter": "python",
   "pygments_lexer": "ipython3",
   "version": "3.9.13"
  }
 },
 "nbformat": 4,
 "nbformat_minor": 5
}
