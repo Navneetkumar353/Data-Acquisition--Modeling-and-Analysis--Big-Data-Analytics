{
 "cells": [
  {
   "cell_type": "markdown",
   "id": "73d18024",
   "metadata": {},
   "source": [
    "# N-R Team\n",
    "## E Navaneet Kumar, Rithvika Paladugu"
   ]
  },
  {
   "cell_type": "code",
   "execution_count": 1,
   "id": "88a48805",
   "metadata": {},
   "outputs": [],
   "source": [
    "import os\n",
    "import numpy as np\n",
    "import pandas as pd\n",
    "\n"
   ]
  },
  {
   "cell_type": "code",
   "execution_count": 2,
   "id": "0e5fe97a",
   "metadata": {},
   "outputs": [],
   "source": [
    "FILES_DIR = 'C:/Users/navne/Python Files/Data Acquisition AAI 627/HW10_1'\n",
    "ensemble_files = [\n",
    "    {'file': 'random_forest_final_predictions_0859.csv', 'score': 0.859},\n",
    "    {'file': 'decision_tree_final_predictions_0859.csv', 'score': 0.859},\n",
    "    {'file': 'grad_boost_final_predictions_0863.csv', 'score': 0.863},\n",
    "    {'file': 'log_reg_genre_final_predictions_0869.csv', 'score': 0.869},\n",
    "    {'file': 'dt_final_predictions_0823.csv', 'score': 0.823},\n",
    "    {'file': 'gbt_final_predictions_0844.csv', 'score': 0.844},\n",
    "    {'file': 'lr_final_predictions_0845.csv', 'score': 0.845},\n",
    "    {'file': 'rf_final_predictions_0823.csv', 'score': 0.823}\n",
    "]\n",
    "\n"
   ]
  },
  {
   "cell_type": "code",
   "execution_count": 3,
   "id": "037f15da",
   "metadata": {},
   "outputs": [],
   "source": [
    "# Load sample submission to ensure alignment\n",
    "df= pd.read_csv('sample_submission.csv').sort_values('TrackID').reset_index(drop=True)\n",
    "\n"
   ]
  },
  {
   "cell_type": "code",
   "execution_count": 4,
   "id": "9783c323",
   "metadata": {},
   "outputs": [
    {
     "name": "stdout",
     "output_type": "stream",
     "text": [
      "Loaded random_forest_final_predictions_0859.csv with shape (120000,)\n",
      "Loaded decision_tree_final_predictions_0859.csv with shape (120000,)\n",
      "Loaded grad_boost_final_predictions_0863.csv with shape (120000,)\n",
      "Loaded log_reg_genre_final_predictions_0869.csv with shape (120000,)\n",
      "Loaded dt_final_predictions_0823.csv with shape (120000,)\n",
      "Loaded gbt_final_predictions_0844.csv with shape (120000,)\n",
      "Loaded lr_final_predictions_0845.csv with shape (120000,)\n",
      "Loaded rf_final_predictions_0823.csv with shape (120000,)\n"
     ]
    }
   ],
   "source": [
    "scores = []\n",
    "predictions = []\n",
    "for ensemble_file in ensemble_files:\n",
    "    pred_df = pd.read_csv(os.path.join(FILES_DIR, ensemble_file['file'])).sort_values('TrackID')\n",
    "    # Ensure that pred_df aligns with df_sample in terms of TrackIDs\n",
    "    aligned_pred = df[['TrackID']].merge(pred_df, on='TrackID', how='left')['Predictor'].fillna(0).values  # Fill NA with 0 or other imputation method\n",
    "    predictions.append(aligned_pred)\n",
    "    scores.append(ensemble_file['score'])\n",
    "\n",
    "    print(f\"Loaded {ensemble_file['file']} with shape {aligned_pred.shape}\")\n",
    "\n"
   ]
  },
  {
   "cell_type": "code",
   "execution_count": 5,
   "id": "88795889",
   "metadata": {},
   "outputs": [
    {
     "name": "stdout",
     "output_type": "stream",
     "text": [
      "All predictions have the same shape: True\n",
      "Successfully created matrix S\n"
     ]
    }
   ],
   "source": [
    "# Check if all predictions arrays have the same shape\n",
    "print(\"All predictions have the same shape:\", all(pred.shape == predictions[0].shape for pred in predictions))\n",
    "\n",
    "# If they all have the same shape, proceed to stack\n",
    "if all(pred.shape == predictions[0].shape for pred in predictions):\n",
    "    S = np.stack(predictions).T * 2 - 1\n",
    "    print(\"Successfully created matrix S\")\n",
    "else:\n",
    "    print(\"Error: Not all prediction arrays have the same shape.\")\n"
   ]
  },
  {
   "cell_type": "code",
   "execution_count": 6,
   "id": "16649924",
   "metadata": {},
   "outputs": [],
   "source": [
    "StS_inv_pseudo = np.linalg.pinv(S.T.dot(S))\n",
    "\n",
    "StX = len(S)*(np.array(scores)*2 - 1)"
   ]
  },
  {
   "cell_type": "code",
   "execution_count": 7,
   "id": "db4f5c56",
   "metadata": {},
   "outputs": [],
   "source": [
    "a_LS = StS_inv_pseudo.dot(StX)"
   ]
  },
  {
   "cell_type": "code",
   "execution_count": 8,
   "id": "46a3fcc2",
   "metadata": {},
   "outputs": [],
   "source": [
    "df['EnsembleScore'] = S.dot(np.expand_dims(a_LS, axis=-1))"
   ]
  },
  {
   "cell_type": "code",
   "execution_count": 9,
   "id": "aa020e38",
   "metadata": {},
   "outputs": [],
   "source": [
    "df['UserID'] = df['TrackID'].str.split('_').str[0]"
   ]
  },
  {
   "cell_type": "code",
   "execution_count": 10,
   "id": "5156a4c2",
   "metadata": {},
   "outputs": [],
   "source": [
    "df = df.sort_values('EnsembleScore', ascending=False)"
   ]
  },
  {
   "cell_type": "code",
   "execution_count": 11,
   "id": "769d4e50",
   "metadata": {},
   "outputs": [],
   "source": [
    "df = pd.concat([\n",
    "    df.groupby(['UserID']).head(3).assign(Predictor=1),\n",
    "    df.groupby(['UserID']).tail(3).assign(Predictor=0)\n",
    "])[['TrackID', 'Predictor']]"
   ]
  },
  {
   "cell_type": "code",
   "execution_count": 12,
   "id": "159156cd",
   "metadata": {},
   "outputs": [],
   "source": [
    "df.to_csv('ensemble_final.csv', index=None)"
   ]
  },
  {
   "cell_type": "markdown",
   "id": "bc74d597",
   "metadata": {},
   "source": [
    "The best public score after ensembling method we got is **0.869** which is better than before and put us at the 8th position in the Kaggle leaderboard."
   ]
  },
  {
   "cell_type": "code",
   "execution_count": null,
   "id": "ecec2355",
   "metadata": {},
   "outputs": [],
   "source": []
  }
 ],
 "metadata": {
  "kernelspec": {
   "display_name": "Python 3 (ipykernel)",
   "language": "python",
   "name": "python3"
  },
  "language_info": {
   "codemirror_mode": {
    "name": "ipython",
    "version": 3
   },
   "file_extension": ".py",
   "mimetype": "text/x-python",
   "name": "python",
   "nbconvert_exporter": "python",
   "pygments_lexer": "ipython3",
   "version": "3.9.13"
  }
 },
 "nbformat": 4,
 "nbformat_minor": 5
}
