{
 "cells": [
  {
   "cell_type": "code",
   "execution_count": 48,
   "id": "2c04f928",
   "metadata": {},
   "outputs": [],
   "source": [
    "import pandas as pd\n",
    "import numpy as np"
   ]
  },
  {
   "cell_type": "code",
   "execution_count": 49,
   "id": "986b14a9",
   "metadata": {},
   "outputs": [],
   "source": [
    "list_of_results = ['random_forest_final_predictions_0859','decision_tree_final_predictions_0859',\n",
    "                   'grad_boost_final_predictions_0863','log_reg_genre_final_predictions_0869']"
   ]
  },
  {
   "cell_type": "code",
   "execution_count": 50,
   "id": "0ce9bb65",
   "metadata": {},
   "outputs": [],
   "source": [
    "scores = []\n",
    "solutions_df = pd.DataFrame()  # Initialize as an empty DataFrame\n",
    "index_prediction = 0"
   ]
  },
  {
   "cell_type": "code",
   "execution_count": 51,
   "id": "4d72825a",
   "metadata": {},
   "outputs": [],
   "source": [
    "for result in list_of_results:\n",
    "    columns = ['TrackID', 'Predictor' + str(index_prediction)]  # append index at end of 'Predictor' column name\n",
    "    file_name = 'C:/Users/navne/Python Files/Data Acquisition BIA 627/HW10_1/' + result + '.csv'\n",
    "    new_result = pd.read_csv(file_name, names=columns, dtype={1:np.int64}, header=0)  # create temp df of current result file\n",
    "    \n",
    "    # Join the new prediction with the solutions_df\n",
    "    if not solutions_df.empty:\n",
    "        solutions_df = solutions_df.join(new_result.set_index('TrackID'), on='TrackID')\n",
    "    else:\n",
    "        solutions_df = pd.read_csv(file_name)  # If it's the first prediction, create the df\n",
    "    \n",
    "    # Correctly extract the numerical part of the filename to calculate the score\n",
    "    score = float(result.split('_')[-1]) / (10 ** 4)  # Convert last part after underscore to float and normalize\n",
    "    scores.append(score)\n",
    "    index_prediction += 1  # increment index\n"
   ]
  },
  {
   "cell_type": "code",
   "execution_count": 52,
   "id": "a09a439f",
   "metadata": {},
   "outputs": [
    {
     "data": {
      "text/html": [
       "<div>\n",
       "<style scoped>\n",
       "    .dataframe tbody tr th:only-of-type {\n",
       "        vertical-align: middle;\n",
       "    }\n",
       "\n",
       "    .dataframe tbody tr th {\n",
       "        vertical-align: top;\n",
       "    }\n",
       "\n",
       "    .dataframe thead th {\n",
       "        text-align: right;\n",
       "    }\n",
       "</style>\n",
       "<table border=\"1\" class=\"dataframe\">\n",
       "  <thead>\n",
       "    <tr style=\"text-align: right;\">\n",
       "      <th></th>\n",
       "      <th>TrackID</th>\n",
       "      <th>Predictor</th>\n",
       "      <th>Predictor1</th>\n",
       "      <th>Predictor2</th>\n",
       "      <th>Predictor3</th>\n",
       "    </tr>\n",
       "  </thead>\n",
       "  <tbody>\n",
       "    <tr>\n",
       "      <th>0</th>\n",
       "      <td>199810_208019</td>\n",
       "      <td>0</td>\n",
       "      <td>0</td>\n",
       "      <td>0</td>\n",
       "      <td>0</td>\n",
       "    </tr>\n",
       "    <tr>\n",
       "      <th>1</th>\n",
       "      <td>199810_9903</td>\n",
       "      <td>0</td>\n",
       "      <td>0</td>\n",
       "      <td>0</td>\n",
       "      <td>0</td>\n",
       "    </tr>\n",
       "    <tr>\n",
       "      <th>2</th>\n",
       "      <td>199810_242681</td>\n",
       "      <td>0</td>\n",
       "      <td>0</td>\n",
       "      <td>0</td>\n",
       "      <td>0</td>\n",
       "    </tr>\n",
       "    <tr>\n",
       "      <th>3</th>\n",
       "      <td>199810_74139</td>\n",
       "      <td>1</td>\n",
       "      <td>1</td>\n",
       "      <td>1</td>\n",
       "      <td>1</td>\n",
       "    </tr>\n",
       "    <tr>\n",
       "      <th>4</th>\n",
       "      <td>199810_18515</td>\n",
       "      <td>1</td>\n",
       "      <td>1</td>\n",
       "      <td>1</td>\n",
       "      <td>1</td>\n",
       "    </tr>\n",
       "    <tr>\n",
       "      <th>...</th>\n",
       "      <td>...</td>\n",
       "      <td>...</td>\n",
       "      <td>...</td>\n",
       "      <td>...</td>\n",
       "      <td>...</td>\n",
       "    </tr>\n",
       "    <tr>\n",
       "      <th>119995</th>\n",
       "      <td>249010_86104</td>\n",
       "      <td>0</td>\n",
       "      <td>0</td>\n",
       "      <td>0</td>\n",
       "      <td>0</td>\n",
       "    </tr>\n",
       "    <tr>\n",
       "      <th>119996</th>\n",
       "      <td>249010_293818</td>\n",
       "      <td>0</td>\n",
       "      <td>0</td>\n",
       "      <td>0</td>\n",
       "      <td>0</td>\n",
       "    </tr>\n",
       "    <tr>\n",
       "      <th>119997</th>\n",
       "      <td>249010_110470</td>\n",
       "      <td>1</td>\n",
       "      <td>1</td>\n",
       "      <td>1</td>\n",
       "      <td>1</td>\n",
       "    </tr>\n",
       "    <tr>\n",
       "      <th>119998</th>\n",
       "      <td>249010_186634</td>\n",
       "      <td>1</td>\n",
       "      <td>1</td>\n",
       "      <td>1</td>\n",
       "      <td>1</td>\n",
       "    </tr>\n",
       "    <tr>\n",
       "      <th>119999</th>\n",
       "      <td>249010_262811</td>\n",
       "      <td>1</td>\n",
       "      <td>1</td>\n",
       "      <td>1</td>\n",
       "      <td>1</td>\n",
       "    </tr>\n",
       "  </tbody>\n",
       "</table>\n",
       "<p>120000 rows × 5 columns</p>\n",
       "</div>"
      ],
      "text/plain": [
       "              TrackID  Predictor  Predictor1  Predictor2  Predictor3\n",
       "0       199810_208019          0           0           0           0\n",
       "1         199810_9903          0           0           0           0\n",
       "2       199810_242681          0           0           0           0\n",
       "3        199810_74139          1           1           1           1\n",
       "4        199810_18515          1           1           1           1\n",
       "...               ...        ...         ...         ...         ...\n",
       "119995   249010_86104          0           0           0           0\n",
       "119996  249010_293818          0           0           0           0\n",
       "119997  249010_110470          1           1           1           1\n",
       "119998  249010_186634          1           1           1           1\n",
       "119999  249010_262811          1           1           1           1\n",
       "\n",
       "[120000 rows x 5 columns]"
      ]
     },
     "execution_count": 52,
     "metadata": {},
     "output_type": "execute_result"
    }
   ],
   "source": [
    "solutions_df"
   ]
  },
  {
   "cell_type": "code",
   "execution_count": 53,
   "id": "dc735f60",
   "metadata": {},
   "outputs": [],
   "source": [
    "# Create initial S matrix with first Predictor column\n",
    "S = np.array((solutions_df.iloc[:, 1] * 2 - 1))    # convert 0 to -1"
   ]
  },
  {
   "cell_type": "code",
   "execution_count": 54,
   "id": "fadd06f8",
   "metadata": {},
   "outputs": [
    {
     "data": {
      "text/plain": [
       "array([-1, -1, -1, ...,  1,  1,  1], dtype=int64)"
      ]
     },
     "execution_count": 54,
     "metadata": {},
     "output_type": "execute_result"
    }
   ],
   "source": [
    "S"
   ]
  },
  {
   "cell_type": "code",
   "execution_count": 55,
   "id": "e914f744",
   "metadata": {},
   "outputs": [],
   "source": [
    "# Loop over the rest of the predictor columns to create the rest of the S matrix\n",
    "for index in range(2, solutions_df.shape[1]):    # .shape[1] gives the # of columns in df\n",
    "    S = np.c_[S, (solutions_df.iloc[:, index] * 2 - 1)]"
   ]
  },
  {
   "cell_type": "code",
   "execution_count": 56,
   "id": "255ad272",
   "metadata": {},
   "outputs": [
    {
     "data": {
      "text/plain": [
       "(120000, 4)"
      ]
     },
     "execution_count": 56,
     "metadata": {},
     "output_type": "execute_result"
    }
   ],
   "source": [
    "S.shape"
   ]
  },
  {
   "cell_type": "code",
   "execution_count": 57,
   "id": "dcc2426a",
   "metadata": {},
   "outputs": [
    {
     "data": {
      "text/plain": [
       "array([[-1, -1, -1, -1],\n",
       "       [-1, -1, -1, -1],\n",
       "       [-1, -1, -1, -1],\n",
       "       ...,\n",
       "       [ 1,  1,  1,  1],\n",
       "       [ 1,  1,  1,  1],\n",
       "       [ 1,  1,  1,  1]], dtype=int64)"
      ]
     },
     "execution_count": 57,
     "metadata": {},
     "output_type": "execute_result"
    }
   ],
   "source": [
    "S"
   ]
  },
  {
   "cell_type": "code",
   "execution_count": 58,
   "id": "26b06140",
   "metadata": {},
   "outputs": [],
   "source": [
    "N = len(S)    # 120,000 rows in this case\n",
    "ST_x = []\n",
    "\n",
    "# Generate S(transpose) * x -> N(2P_i - 1)\n",
    "ST_x = [N * (2 * P - 1) for P in scores]    # list comprehension\n",
    "\n",
    "# Generate S(transpose) * S\n",
    "ST_S = np.dot(S.T, S).astype('float') + np.eye(S.shape[1]) * (10 ** -6)    # to prevent singular matrices\n",
    "\n",
    "# Generate (S(transpose) * S)^-1\n",
    "ST_S_inv = np.linalg.inv(ST_S)\n",
    "\n",
    "# Generate a_LS = (S(transpose) * S)^-1 * N(2P_i - 1) \n",
    "# a_LS is the Least Squares solution\n",
    "a_LS = np.dot(ST_S_inv, ST_x)"
   ]
  },
  {
   "cell_type": "code",
   "execution_count": 59,
   "id": "7fe865ed",
   "metadata": {},
   "outputs": [
    {
     "data": {
      "text/plain": [
       "array([-0.15865326, -0.15866089, -0.18534534, -0.35122798])"
      ]
     },
     "execution_count": 59,
     "metadata": {},
     "output_type": "execute_result"
    }
   ],
   "source": [
    "a_LS"
   ]
  },
  {
   "cell_type": "code",
   "execution_count": 60,
   "id": "b9d414f1",
   "metadata": {},
   "outputs": [],
   "source": [
    "s_ensemble = np.dot(S, a_LS)"
   ]
  },
  {
   "cell_type": "code",
   "execution_count": 61,
   "id": "54552781",
   "metadata": {},
   "outputs": [
    {
     "data": {
      "text/plain": [
       "array([ 0.85388747,  0.85388747,  0.85388747, ..., -0.85388747,\n",
       "       -0.85388747, -0.85388747])"
      ]
     },
     "execution_count": 61,
     "metadata": {},
     "output_type": "execute_result"
    }
   ],
   "source": [
    "s_ensemble"
   ]
  },
  {
   "cell_type": "code",
   "execution_count": 62,
   "id": "4cfc1f12",
   "metadata": {},
   "outputs": [
    {
     "data": {
      "text/plain": [
       "120000"
      ]
     },
     "execution_count": 62,
     "metadata": {},
     "output_type": "execute_result"
    }
   ],
   "source": [
    "s_ensemble_len = len(s_ensemble)    # store length of s_ensemble\n",
    "s_ensemble_len"
   ]
  },
  {
   "cell_type": "code",
   "execution_count": 63,
   "id": "b542f86e",
   "metadata": {},
   "outputs": [],
   "source": [
    "final_predictions = np.zeros(s_ensemble_len)    # initialize final solution with list of zeroes"
   ]
  },
  {
   "cell_type": "code",
   "execution_count": 64,
   "id": "2f4fbe12",
   "metadata": {},
   "outputs": [],
   "source": [
    "# Loop through all 6 tracks for each user to get top 3 for each user\n",
    "for index in range(s_ensemble_len // 6):    # floor division\n",
    "    # Threshold is the third element in the sorted array\n",
    "    user_score_threshold = np.sort(s_ensemble[index * 6 : index * 6 + 6])[2]    # sort the 6 values for each user and grab the third element\n",
    "    for index_user in range(6):\n",
    "        if s_ensemble[index * 6 + index_user] > user_score_threshold:\n",
    "            final_predictions[index * 6 + index_user] = 1    # set top 3 to 1 (other 3 will be 0)"
   ]
  },
  {
   "cell_type": "code",
   "execution_count": 65,
   "id": "cb301d0a",
   "metadata": {},
   "outputs": [],
   "source": [
    "# Generate the final prediction df\n",
    "final_predictions_df = pd.DataFrame(solutions_df.iloc[:,0])    # make new df using first column of solutions_df\n",
    "final_predictions_df['Predictor'] = np.array(final_predictions, dtype=int)"
   ]
  },
  {
   "cell_type": "code",
   "execution_count": 66,
   "id": "6a459506",
   "metadata": {},
   "outputs": [
    {
     "data": {
      "text/html": [
       "<div>\n",
       "<style scoped>\n",
       "    .dataframe tbody tr th:only-of-type {\n",
       "        vertical-align: middle;\n",
       "    }\n",
       "\n",
       "    .dataframe tbody tr th {\n",
       "        vertical-align: top;\n",
       "    }\n",
       "\n",
       "    .dataframe thead th {\n",
       "        text-align: right;\n",
       "    }\n",
       "</style>\n",
       "<table border=\"1\" class=\"dataframe\">\n",
       "  <thead>\n",
       "    <tr style=\"text-align: right;\">\n",
       "      <th></th>\n",
       "      <th>TrackID</th>\n",
       "      <th>Predictor</th>\n",
       "    </tr>\n",
       "  </thead>\n",
       "  <tbody>\n",
       "    <tr>\n",
       "      <th>0</th>\n",
       "      <td>199810_208019</td>\n",
       "      <td>1</td>\n",
       "    </tr>\n",
       "    <tr>\n",
       "      <th>1</th>\n",
       "      <td>199810_9903</td>\n",
       "      <td>1</td>\n",
       "    </tr>\n",
       "    <tr>\n",
       "      <th>2</th>\n",
       "      <td>199810_242681</td>\n",
       "      <td>1</td>\n",
       "    </tr>\n",
       "    <tr>\n",
       "      <th>3</th>\n",
       "      <td>199810_74139</td>\n",
       "      <td>0</td>\n",
       "    </tr>\n",
       "    <tr>\n",
       "      <th>4</th>\n",
       "      <td>199810_18515</td>\n",
       "      <td>0</td>\n",
       "    </tr>\n",
       "    <tr>\n",
       "      <th>...</th>\n",
       "      <td>...</td>\n",
       "      <td>...</td>\n",
       "    </tr>\n",
       "    <tr>\n",
       "      <th>119995</th>\n",
       "      <td>249010_86104</td>\n",
       "      <td>1</td>\n",
       "    </tr>\n",
       "    <tr>\n",
       "      <th>119996</th>\n",
       "      <td>249010_293818</td>\n",
       "      <td>1</td>\n",
       "    </tr>\n",
       "    <tr>\n",
       "      <th>119997</th>\n",
       "      <td>249010_110470</td>\n",
       "      <td>0</td>\n",
       "    </tr>\n",
       "    <tr>\n",
       "      <th>119998</th>\n",
       "      <td>249010_186634</td>\n",
       "      <td>0</td>\n",
       "    </tr>\n",
       "    <tr>\n",
       "      <th>119999</th>\n",
       "      <td>249010_262811</td>\n",
       "      <td>0</td>\n",
       "    </tr>\n",
       "  </tbody>\n",
       "</table>\n",
       "<p>120000 rows × 2 columns</p>\n",
       "</div>"
      ],
      "text/plain": [
       "              TrackID  Predictor\n",
       "0       199810_208019          1\n",
       "1         199810_9903          1\n",
       "2       199810_242681          1\n",
       "3        199810_74139          0\n",
       "4        199810_18515          0\n",
       "...               ...        ...\n",
       "119995   249010_86104          1\n",
       "119996  249010_293818          1\n",
       "119997  249010_110470          0\n",
       "119998  249010_186634          0\n",
       "119999  249010_262811          0\n",
       "\n",
       "[120000 rows x 2 columns]"
      ]
     },
     "execution_count": 66,
     "metadata": {},
     "output_type": "execute_result"
    }
   ],
   "source": [
    "final_predictions_df"
   ]
  },
  {
   "cell_type": "code",
   "execution_count": 67,
   "id": "f680c29e",
   "metadata": {},
   "outputs": [],
   "source": [
    "final_predictions_df.to_csv('Ensemble_Predictions.csv', index=False)"
   ]
  },
  {
   "cell_type": "code",
   "execution_count": null,
   "id": "1b3e4cfe",
   "metadata": {},
   "outputs": [],
   "source": []
  }
 ],
 "metadata": {
  "kernelspec": {
   "display_name": "Python 3 (ipykernel)",
   "language": "python",
   "name": "python3"
  },
  "language_info": {
   "codemirror_mode": {
    "name": "ipython",
    "version": 3
   },
   "file_extension": ".py",
   "mimetype": "text/x-python",
   "name": "python",
   "nbconvert_exporter": "python",
   "pygments_lexer": "ipython3",
   "version": "3.9.13"
  }
 },
 "nbformat": 4,
 "nbformat_minor": 5
}
